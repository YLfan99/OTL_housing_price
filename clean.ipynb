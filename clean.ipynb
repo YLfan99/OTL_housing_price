{
 "cells": [
  {
   "cell_type": "code",
   "execution_count": 1,
   "metadata": {},
   "outputs": [],
   "source": [
    "import os\n",
    "import json\n",
    "import pandas as pd\n",
    "import numpy as np\n",
    "from scipy import stats\n",
    "import matplotlib.pyplot as plt\n",
    "import matplotlib.dates as mdates\n",
    "import seaborn as sns\n",
    "from tqdm import tqdm, trange\n",
    "from shapely.geometry import shape, Point"
   ]
  },
  {
   "cell_type": "code",
   "execution_count": 2,
   "metadata": {},
   "outputs": [
    {
     "data": {
      "text/plain": [
       "520"
      ]
     },
     "execution_count": 2,
     "metadata": {},
     "output_type": "execute_result"
    }
   ],
   "source": [
    "cwd = os.getcwd()\n",
    "folder = os.path.join(cwd, '../final_clean_version_2') # folder to store sales data from 520 suburbs\n",
    "files = os.listdir(folder)\n",
    "len(files)"
   ]
  },
  {
   "cell_type": "code",
   "execution_count": 3,
   "metadata": {},
   "outputs": [
    {
     "data": {
      "text/html": [
       "<div>\n",
       "<style scoped>\n",
       "    .dataframe tbody tr th:only-of-type {\n",
       "        vertical-align: middle;\n",
       "    }\n",
       "\n",
       "    .dataframe tbody tr th {\n",
       "        vertical-align: top;\n",
       "    }\n",
       "\n",
       "    .dataframe thead th {\n",
       "        text-align: right;\n",
       "    }\n",
       "</style>\n",
       "<table border=\"1\" class=\"dataframe\">\n",
       "  <thead>\n",
       "    <tr style=\"text-align: right;\">\n",
       "      <th></th>\n",
       "      <th>0</th>\n",
       "    </tr>\n",
       "  </thead>\n",
       "  <tbody>\n",
       "    <tr>\n",
       "      <th>PropID</th>\n",
       "      <td>Abbotsford_VIC_3067_0</td>\n",
       "    </tr>\n",
       "    <tr>\n",
       "      <th>Street</th>\n",
       "      <td>7/29 Church Street</td>\n",
       "    </tr>\n",
       "    <tr>\n",
       "      <th>PropStreet</th>\n",
       "      <td>7/29 Church Street</td>\n",
       "    </tr>\n",
       "    <tr>\n",
       "      <th>Suburb</th>\n",
       "      <td>Abbotsford</td>\n",
       "    </tr>\n",
       "    <tr>\n",
       "      <th>PropSuburb</th>\n",
       "      <td>Abbotsford</td>\n",
       "    </tr>\n",
       "    <tr>\n",
       "      <th>Region</th>\n",
       "      <td>VIC</td>\n",
       "    </tr>\n",
       "    <tr>\n",
       "      <th>PostalCode</th>\n",
       "      <td>3067</td>\n",
       "    </tr>\n",
       "    <tr>\n",
       "      <th>Latitude</th>\n",
       "      <td>-37.809156</td>\n",
       "    </tr>\n",
       "    <tr>\n",
       "      <th>Longitude</th>\n",
       "      <td>145.000665</td>\n",
       "    </tr>\n",
       "    <tr>\n",
       "      <th>Type</th>\n",
       "      <td>APARTMENT</td>\n",
       "    </tr>\n",
       "    <tr>\n",
       "      <th>Bedrms</th>\n",
       "      <td>2.0</td>\n",
       "    </tr>\n",
       "    <tr>\n",
       "      <th>Bathrms</th>\n",
       "      <td>1.0</td>\n",
       "    </tr>\n",
       "    <tr>\n",
       "      <th>Cars</th>\n",
       "      <td>1.0</td>\n",
       "    </tr>\n",
       "    <tr>\n",
       "      <th>LandSize</th>\n",
       "      <td>NaN</td>\n",
       "    </tr>\n",
       "    <tr>\n",
       "      <th>BuildingArea</th>\n",
       "      <td>61.0</td>\n",
       "    </tr>\n",
       "    <tr>\n",
       "      <th>YearBuilt</th>\n",
       "      <td>1970.0</td>\n",
       "    </tr>\n",
       "    <tr>\n",
       "      <th>SoldOrRent</th>\n",
       "      <td>SOLD</td>\n",
       "    </tr>\n",
       "    <tr>\n",
       "      <th>Price</th>\n",
       "      <td>350000.0</td>\n",
       "    </tr>\n",
       "    <tr>\n",
       "      <th>Day</th>\n",
       "      <td>15.0</td>\n",
       "    </tr>\n",
       "    <tr>\n",
       "      <th>Month</th>\n",
       "      <td>1.0</td>\n",
       "    </tr>\n",
       "    <tr>\n",
       "      <th>Year</th>\n",
       "      <td>2009.0</td>\n",
       "    </tr>\n",
       "    <tr>\n",
       "      <th>AgentName</th>\n",
       "      <td>Biggin &amp; Scott - Richmond</td>\n",
       "    </tr>\n",
       "    <tr>\n",
       "      <th>AgentAddr</th>\n",
       "      <td>28 Bridge Road, Richmond, Vic 3121</td>\n",
       "    </tr>\n",
       "    <tr>\n",
       "      <th>Source</th>\n",
       "      <td>SoldUrl</td>\n",
       "    </tr>\n",
       "  </tbody>\n",
       "</table>\n",
       "</div>"
      ],
      "text/plain": [
       "                                               0\n",
       "PropID                     Abbotsford_VIC_3067_0\n",
       "Street                        7/29 Church Street\n",
       "PropStreet                    7/29 Church Street\n",
       "Suburb                                Abbotsford\n",
       "PropSuburb                            Abbotsford\n",
       "Region                                       VIC\n",
       "PostalCode                                  3067\n",
       "Latitude                              -37.809156\n",
       "Longitude                             145.000665\n",
       "Type                                   APARTMENT\n",
       "Bedrms                                       2.0\n",
       "Bathrms                                      1.0\n",
       "Cars                                         1.0\n",
       "LandSize                                     NaN\n",
       "BuildingArea                                61.0\n",
       "YearBuilt                                 1970.0\n",
       "SoldOrRent                                  SOLD\n",
       "Price                                   350000.0\n",
       "Day                                         15.0\n",
       "Month                                        1.0\n",
       "Year                                      2009.0\n",
       "AgentName              Biggin & Scott - Richmond\n",
       "AgentAddr     28 Bridge Road, Richmond, Vic 3121\n",
       "Source                                   SoldUrl"
      ]
     },
     "execution_count": 3,
     "metadata": {},
     "output_type": "execute_result"
    }
   ],
   "source": [
    "# inspect the first dataset\n",
    "\n",
    "pd.read_csv(os.path.join(folder, files[0])).head(1).transpose()"
   ]
  },
  {
   "cell_type": "markdown",
   "metadata": {},
   "source": [
    "# Merge into one single dataset"
   ]
  },
  {
   "cell_type": "code",
   "execution_count": 4,
   "metadata": {},
   "outputs": [
    {
     "name": "stderr",
     "output_type": "stream",
     "text": [
      "100%|██████████| 520/520 [00:42<00:00, 12.21it/s]\n"
     ]
    }
   ],
   "source": [
    "# keep only data from 2013-2017 for SOLD HOUSE that have prices recorded; merge into one single dataset\n",
    "\n",
    "b4, after = [], []\n",
    "for i, file in enumerate(tqdm(files)):\n",
    "    \n",
    "    if i==0:\n",
    "        data_all = pd.read_csv(os.path.join(folder, file))\n",
    "        # print(f\"b4: {len(data_all)}\")\n",
    "        b4.append(len(data_all))\n",
    "        data_all = data_all.dropna(subset=['Price']).loc[\n",
    "            (data_all['SoldOrRent'] == 'SOLD') & (data_all['Type'] == 'HOUSE')\n",
    "        ]\n",
    "        after.append(len(data_all))\n",
    "        # print(f\"after: {len(data_all)}\")\n",
    "    else:\n",
    "        newdata = pd.read_csv(os.path.join(folder, file))\n",
    "        # print(f\"b4: {len(newdata)}\")\n",
    "        b4.append(len(newdata))\n",
    "        newdata = newdata.dropna(subset=['Price']).loc[\n",
    "            (newdata['SoldOrRent'] == 'SOLD') & (newdata['Type'] == 'HOUSE')\n",
    "        ]\n",
    "        # print(f\"after: {len(newdata)}\")\n",
    "        after.append(len(newdata))\n",
    "        data_all = pd.concat([data_all, newdata])"
   ]
  },
  {
   "cell_type": "code",
   "execution_count": 5,
   "metadata": {},
   "outputs": [
    {
     "data": {
      "text/plain": [
       "(1255109, 24)"
      ]
     },
     "execution_count": 5,
     "metadata": {},
     "output_type": "execute_result"
    }
   ],
   "source": [
    "data_all.shape"
   ]
  },
  {
   "cell_type": "markdown",
   "metadata": {},
   "source": [
    "# First clean\n",
    "\n",
    "1. remove redundant columns\n",
    "2. remove instances having LandSize and BuildingArea both missing\n",
    "3. remove instances having Bedrms, Bathrms, Cars all missing\n",
    "4. remove price that is below 100,000"
   ]
  },
  {
   "cell_type": "code",
   "execution_count": 6,
   "metadata": {},
   "outputs": [
    {
     "data": {
      "text/plain": [
       "(1183760, 17)"
      ]
     },
     "execution_count": 6,
     "metadata": {},
     "output_type": "execute_result"
    }
   ],
   "source": [
    "data_clean = data_all.drop(\n",
    "    columns=['Street', 'PropStreet', 'PropSuburb', 'Region', 'Type', 'SoldOrRent', 'Source']\n",
    ").dropna(\n",
    "    subset=['LandSize', 'BuildingArea'], how='all'\n",
    ").dropna(\n",
    "    subset=['Bedrms', 'Bathrms', 'Cars'], how='all'\n",
    ")\n",
    "\n",
    "data_clean.shape"
   ]
  },
  {
   "cell_type": "code",
   "execution_count": 7,
   "metadata": {},
   "outputs": [
    {
     "name": "stderr",
     "output_type": "stream",
     "text": [
      "c:\\ProgramData\\Miniconda3\\lib\\site-packages\\pandas\\core\\internals\\blocks.py:2199: RuntimeWarning: invalid value encountered in cast\n",
      "  values = values.astype(str)\n"
     ]
    }
   ],
   "source": [
    "# this is raw data after simple cleaning, so it may contain some useless columns\n",
    "\n",
    "# data_clean.reset_index().drop(columns='index').to_csv(os.path.join(cwd, 'data\\\\ver2_house_sold.csv'), index=False)"
   ]
  },
  {
   "cell_type": "code",
   "execution_count": 8,
   "metadata": {},
   "outputs": [
    {
     "name": "stdout",
     "output_type": "stream",
     "text": [
      "<class 'pandas.core.frame.DataFrame'>\n",
      "RangeIndex: 1183760 entries, 0 to 1183759\n",
      "Data columns (total 12 columns):\n",
      " #   Column        Non-Null Count    Dtype  \n",
      "---  ------        --------------    -----  \n",
      " 0   PropID        1183760 non-null  object \n",
      " 1   Suburb        1183760 non-null  object \n",
      " 2   Bedrms        1182928 non-null  float64\n",
      " 3   Bathrms       1183426 non-null  float64\n",
      " 4   Cars          1142723 non-null  float64\n",
      " 5   LandSize      1120415 non-null  float64\n",
      " 6   BuildingArea  804082 non-null   float64\n",
      " 7   YearBuilt     869875 non-null   float64\n",
      " 8   Price         1183760 non-null  float64\n",
      " 9   Day           356820 non-null   float64\n",
      " 10  Month         1183595 non-null  float64\n",
      " 11  Year          1183595 non-null  float64\n",
      "dtypes: float64(10), object(2)\n",
      "memory usage: 108.4+ MB\n"
     ]
    }
   ],
   "source": [
    "# get those features of interest\n",
    "\n",
    "data_clean = pd.read_csv(os.path.join(cwd, 'data\\\\ver2_house_sold.csv'))\n",
    "data = data_clean[[\n",
    "    'PropID', 'Suburb', 'Bedrms', 'Bathrms', 'Cars', 'LandSize', 'BuildingArea', 'YearBuilt', 'Price', 'Day',\n",
    "    'Month', 'Year'\n",
    "]]\n",
    "\n",
    "data.info()"
   ]
  },
  {
   "cell_type": "code",
   "execution_count": 9,
   "metadata": {},
   "outputs": [
    {
     "data": {
      "text/plain": [
       "(356820, 12)"
      ]
     },
     "execution_count": 9,
     "metadata": {},
     "output_type": "execute_result"
    }
   ],
   "source": [
    "# num of entries with sold date\n",
    "data.dropna(subset=['Day']).shape"
   ]
  },
  {
   "cell_type": "code",
   "execution_count": 17,
   "metadata": {},
   "outputs": [
    {
     "data": {
      "text/plain": [
       "311475"
      ]
     },
     "execution_count": 17,
     "metadata": {},
     "output_type": "execute_result"
    }
   ],
   "source": [
    "# Houses sold more than once\n",
    "data['PropID'].value_counts().count()-data['PropID'].value_counts().value_counts()[1]"
   ]
  },
  {
   "cell_type": "code",
   "execution_count": 20,
   "metadata": {},
   "outputs": [
    {
     "data": {
      "text/plain": [
       "'c:\\\\Users\\\\YLfan\\\\OneDrive\\\\UniMelb\\\\Research\\\\OTL_housing_price'"
      ]
     },
     "execution_count": 20,
     "metadata": {},
     "output_type": "execute_result"
    }
   ],
   "source": [
    "os.getcwd()"
   ]
  }
 ],
 "metadata": {
  "kernelspec": {
   "display_name": "Python 3.9.7 ('base')",
   "language": "python",
   "name": "python3"
  },
  "language_info": {
   "codemirror_mode": {
    "name": "ipython",
    "version": 3
   },
   "file_extension": ".py",
   "mimetype": "text/x-python",
   "name": "python",
   "nbconvert_exporter": "python",
   "pygments_lexer": "ipython3",
   "version": "3.9.7"
  },
  "orig_nbformat": 4,
  "vscode": {
   "interpreter": {
    "hash": "19d1d53a962d236aa061289c2ac16dc8e6d9648c89fe79f459ae9a3493bc67b4"
   }
  }
 },
 "nbformat": 4,
 "nbformat_minor": 2
}
